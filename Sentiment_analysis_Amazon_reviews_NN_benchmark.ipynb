{
  "nbformat": 4,
  "nbformat_minor": 0,
  "metadata": {
    "kernelspec": {
      "display_name": "Python 3",
      "language": "python",
      "name": "python3"
    },
    "language_info": {
      "codemirror_mode": {
        "name": "ipython",
        "version": 3
      },
      "file_extension": ".py",
      "mimetype": "text/x-python",
      "name": "python",
      "nbconvert_exporter": "python",
      "pygments_lexer": "ipython3",
      "version": "3.7.4"
    },
    "colab": {
      "name": "Sentiment analysis Amazon reviews NN benchmark.ipynb",
      "provenance": [],
      "collapsed_sections": [],
      "include_colab_link": true
    },
    "accelerator": "GPU"
  },
  "cells": [
    {
      "cell_type": "markdown",
      "metadata": {
        "id": "view-in-github",
        "colab_type": "text"
      },
      "source": [
        "<a href=\"https://colab.research.google.com/github/DrAlexSanz/Amazon-reviews-dataset/blob/master/Sentiment_analysis_Amazon_reviews_NN_benchmark.ipynb\" target=\"_parent\"><img src=\"https://colab.research.google.com/assets/colab-badge.svg\" alt=\"Open In Colab\"/></a>"
      ]
    },
    {
      "cell_type": "markdown",
      "metadata": {
        "id": "zQBnVy0RfEID",
        "colab_type": "text"
      },
      "source": [
        "### This is a quick notebook to perform binary classification on the amazon reviews dataset"
      ]
    },
    {
      "cell_type": "markdown",
      "metadata": {
        "id": "7gZvQIVmfEIE",
        "colab_type": "text"
      },
      "source": [
        "### Idea of this notebook.\n",
        "\n",
        "1. Get the data.\n",
        "2. Combine it in one DF or vector or something.\n",
        "3. Label encoding.\n",
        "4. Tokenize.\n",
        "5. Train/test split.\n",
        "6. Model training and testing using a quick benchmark. Simple NN, RNN and LSTM as a test of what I can achieve with simple models."
      ]
    },
    {
      "cell_type": "code",
      "metadata": {
        "id": "OtZXFijKfEIE",
        "colab_type": "code",
        "colab": {}
      },
      "source": [
        "from bs4 import BeautifulSoup\n",
        "from keras.preprocessing.text import Tokenizer\n",
        "from keras.preprocessing import sequence\n",
        "from sklearn.model_selection import train_test_split\n",
        "from sklearn.decomposition import PCA\n",
        "from sklearn.linear_model import LogisticRegression\n",
        "from sklearn.ensemble import RandomForestClassifier\n",
        "from sklearn.metrics import accuracy_score\n",
        "from keras import Sequential\n",
        "from keras.layers import Input, Dense, Dropout, Embedding, Activation, RNN, LSTM, SimpleRNN\n",
        "from keras.models import Model\n",
        "from keras.optimizers import Adam\n",
        "from keras.utils import plot_model\n",
        "from keras.layers.experimental.preprocessing import TextVectorization\n",
        "from keras.initializers import Constant\n",
        "import pandas as pd\n",
        "import numpy as np\n",
        "import matplotlib.pyplot as plt"
      ],
      "execution_count": 1,
      "outputs": []
    },
    {
      "cell_type": "markdown",
      "metadata": {
        "id": "mtbLwWEpfEIH",
        "colab_type": "text"
      },
      "source": [
        "### Read the data and store positive and negative reviews\n",
        "\n",
        "The data is in xml format. Read it with bs4.\n",
        "\n",
        "The idea is to find all the reviews text. findAll finds the text and the tags and produces a soup object result. I want a string and then I'll split it and clean the \"\\n\". This is the way to do things."
      ]
    },
    {
      "cell_type": "code",
      "metadata": {
        "id": "nKqyuqIwfEIH",
        "colab_type": "code",
        "colab": {}
      },
      "source": [
        "pos_reviews = BeautifulSoup(open(\"positive.review\").read())\n",
        "neg_reviews = BeautifulSoup(open(\"negative.review\").read())\n",
        "\n",
        "pos_list = []\n",
        "\n",
        "pos_revs = pos_reviews.find_all(\"review_text\")\n",
        "\n",
        "for rev in pos_revs:\n",
        "    pos_list.append(rev.text)\n",
        "    \n",
        "\n",
        "neg_list = []\n",
        "\n",
        "neg_revs = neg_reviews.find_all(\"review_text\")\n",
        "\n",
        "for rev in neg_revs:\n",
        "    neg_list.append(rev.text)\n"
      ],
      "execution_count": 2,
      "outputs": []
    },
    {
      "cell_type": "markdown",
      "metadata": {
        "id": "seeGFtI-fEIK",
        "colab_type": "text"
      },
      "source": [
        "## Remove the \\n characters.\n",
        "\n",
        "### I have a list of strings, for each string I replace the \\n with a blank space and then I strip the leading and trailing spaces. On pos_list I just replace the \\n by an inexisting character. Both works, the inexisting character is probably better and more elegant but since I had to do the NLS at Cat I can also do it here ;)"
      ]
    },
    {
      "cell_type": "code",
      "metadata": {
        "id": "WX3u3bUKfEIK",
        "colab_type": "code",
        "colab": {}
      },
      "source": [
        "clean_pos_list =[elem.replace(\"\\n\", \"\") for elem in pos_list]\n",
        "\n",
        "clean_neg_list =[elem.replace(\"\\n\", \" \").strip() for elem in neg_list]\n",
        "\n",
        "\n"
      ],
      "execution_count": 3,
      "outputs": []
    },
    {
      "cell_type": "markdown",
      "metadata": {
        "id": "XlAHxOuDfEIN",
        "colab_type": "text"
      },
      "source": [
        "### Out of curiosity, check how long are the reviews. Vaya tochos sin resumen. Es de vergüenza su actitud."
      ]
    },
    {
      "cell_type": "code",
      "metadata": {
        "id": "W0A_6NJkfEIN",
        "colab_type": "code",
        "colab": {
          "base_uri": "https://localhost:8080/",
          "height": 51
        },
        "outputId": "18488c7a-8622-467d-e3bf-b558f316d54d"
      },
      "source": [
        "max_len = [len(elem) for elem in clean_pos_list]\n",
        "longest = max(max_len)\n",
        "print(longest)\n",
        "\n",
        "max_len_neg = [len(elem) for elem in clean_neg_list]\n",
        "print(max(max_len))"
      ],
      "execution_count": 4,
      "outputs": [
        {
          "output_type": "stream",
          "text": [
            "5840\n",
            "5840\n"
          ],
          "name": "stdout"
        }
      ]
    },
    {
      "cell_type": "markdown",
      "metadata": {
        "id": "QZHAhV8mfEIR",
        "colab_type": "text"
      },
      "source": [
        "## Now I will tag the pos and negs myself. I don't need label encoding.\n",
        "### Then union the two dataframes"
      ]
    },
    {
      "cell_type": "code",
      "metadata": {
        "id": "6Gm8PugUfEIR",
        "colab_type": "code",
        "colab": {}
      },
      "source": [
        "pos = pd.DataFrame(clean_pos_list, columns = [\"Reviews\"])\n",
        "pos[\"label\"] = 1\n",
        "\n",
        "neg = pd.DataFrame(clean_neg_list, columns = [\"Reviews\"])\n",
        "neg[\"label\"] = 0\n",
        "\n",
        "dataset = pd.concat([pos, neg], ignore_index = True)"
      ],
      "execution_count": 5,
      "outputs": []
    },
    {
      "cell_type": "markdown",
      "metadata": {
        "id": "nC8kb2HQfEIY",
        "colab_type": "text"
      },
      "source": [
        "## It's probably not the best way to do this but I put the tags, concat both DFs and now I'll make two vectors and tokenize."
      ]
    },
    {
      "cell_type": "code",
      "metadata": {
        "id": "x-NjfdUqfEIY",
        "colab_type": "code",
        "colab": {}
      },
      "source": [
        "X = dataset[\"Reviews\"]\n",
        "y = dataset[\"label\"]\n",
        "\n",
        "y = y.values.tolist()"
      ],
      "execution_count": 6,
      "outputs": []
    },
    {
      "cell_type": "code",
      "metadata": {
        "id": "7Nw53hWLfEIa",
        "colab_type": "code",
        "colab": {}
      },
      "source": [
        "x_train, x_test, y_train, y_test = train_test_split(X, y, test_size = 0.2, random_state = 13)"
      ],
      "execution_count": 7,
      "outputs": []
    },
    {
      "cell_type": "code",
      "metadata": {
        "id": "KARwyqXifEIc",
        "colab_type": "code",
        "colab": {
          "base_uri": "https://localhost:8080/",
          "height": 221
        },
        "outputId": "69ec0ba4-ec7e-43c5-9a0c-0019f9892122"
      },
      "source": [
        "print(x_test)"
      ],
      "execution_count": 8,
      "outputs": [
        {
          "output_type": "stream",
          "text": [
            "681     Great buy for a wonderful speaker system. Work...\n",
            "1601    I bought these cables, brought them home and i...\n",
            "819     I had a problem with my Sunrocket VOIP and I r...\n",
            "910     I am extremely pleased with the purchase. I am...\n",
            "330     I'm using this AP, along with a Netgear 802.11...\n",
            "                              ...                        \n",
            "1685    i was very disappointed with the ge superadio ...\n",
            "152     PROS:smallreliablevery good quality with pictu...\n",
            "351     I recently bought a new 6.0 megapixel digital ...\n",
            "266     Myself and my grandchildren love to hold these...\n",
            "1559    OK. I take my words back. I found a solution t...\n",
            "Name: Reviews, Length: 400, dtype: object\n"
          ],
          "name": "stdout"
        }
      ]
    },
    {
      "cell_type": "code",
      "metadata": {
        "id": "hXudyGIbfEIj",
        "colab_type": "code",
        "colab": {}
      },
      "source": [
        "# Convert y to np array\n",
        "\n",
        "x_test = np.array(x_test)\n",
        "x_train = np.array(x_train)\n",
        "\n",
        "y_test = np.array(y_test)\n",
        "y_train = np.array(y_train)"
      ],
      "execution_count": 9,
      "outputs": []
    },
    {
      "cell_type": "code",
      "metadata": {
        "id": "0ERIqu78dHOt",
        "colab_type": "code",
        "colab": {
          "base_uri": "https://localhost:8080/",
          "height": 34
        },
        "outputId": "7237c4bb-729a-465c-fc36-ea6d7bf2ef5d"
      },
      "source": [
        "longest_train = max([len(i) for i in x_train])\n",
        "max([len(i) for i in x_test])"
      ],
      "execution_count": 10,
      "outputs": [
        {
          "output_type": "execute_result",
          "data": {
            "text/plain": [
              "5840"
            ]
          },
          "metadata": {
            "tags": []
          },
          "execution_count": 10
        }
      ]
    },
    {
      "cell_type": "code",
      "metadata": {
        "id": "dTTQ3KKRLgw-",
        "colab_type": "code",
        "colab": {
          "base_uri": "https://localhost:8080/",
          "height": 357
        },
        "outputId": "d49a4a31-023f-4ecb-e3d3-7ee8bdcd77de"
      },
      "source": [
        "!wget http://nlp.stanford.edu/data/glove.6B.zip"
      ],
      "execution_count": 11,
      "outputs": [
        {
          "output_type": "stream",
          "text": [
            "--2020-08-21 19:20:04--  http://nlp.stanford.edu/data/glove.6B.zip\n",
            "Resolving nlp.stanford.edu (nlp.stanford.edu)... 171.64.67.140\n",
            "Connecting to nlp.stanford.edu (nlp.stanford.edu)|171.64.67.140|:80... connected.\n",
            "HTTP request sent, awaiting response... 302 Found\n",
            "Location: https://nlp.stanford.edu/data/glove.6B.zip [following]\n",
            "--2020-08-21 19:20:04--  https://nlp.stanford.edu/data/glove.6B.zip\n",
            "Connecting to nlp.stanford.edu (nlp.stanford.edu)|171.64.67.140|:443... connected.\n",
            "HTTP request sent, awaiting response... 301 Moved Permanently\n",
            "Location: http://downloads.cs.stanford.edu/nlp/data/glove.6B.zip [following]\n",
            "--2020-08-21 19:20:04--  http://downloads.cs.stanford.edu/nlp/data/glove.6B.zip\n",
            "Resolving downloads.cs.stanford.edu (downloads.cs.stanford.edu)... 171.64.64.22\n",
            "Connecting to downloads.cs.stanford.edu (downloads.cs.stanford.edu)|171.64.64.22|:80... connected.\n",
            "HTTP request sent, awaiting response... 200 OK\n",
            "Length: 862182613 (822M) [application/zip]\n",
            "Saving to: ‘glove.6B.zip’\n",
            "\n",
            "glove.6B.zip        100%[===================>] 822.24M  1.90MB/s    in 6m 29s  \n",
            "\n",
            "2020-08-21 19:26:33 (2.12 MB/s) - ‘glove.6B.zip’ saved [862182613/862182613]\n",
            "\n"
          ],
          "name": "stdout"
        }
      ]
    },
    {
      "cell_type": "code",
      "metadata": {
        "id": "3IsUzwbGLtSt",
        "colab_type": "code",
        "colab": {}
      },
      "source": [
        "!unzip -q glove.6B.zip"
      ],
      "execution_count": 12,
      "outputs": []
    },
    {
      "cell_type": "markdown",
      "metadata": {
        "id": "mH63TrycPdvS",
        "colab_type": "text"
      },
      "source": [
        "Make a dictionary mapping words to word vectors (Numpy arrays)"
      ]
    },
    {
      "cell_type": "code",
      "metadata": {
        "id": "QCPIsrGnPbMY",
        "colab_type": "code",
        "colab": {
          "base_uri": "https://localhost:8080/",
          "height": 34
        },
        "outputId": "92a56d47-af58-48d0-d915-790cf3a72d49"
      },
      "source": [
        "embeddings_index = {}\n",
        "with open(\"glove.6B.100d.txt\") as f:\n",
        "    for line in f:\n",
        "        word, coefs = line.split(maxsplit = 1)\n",
        "        coefs = np.fromstring(coefs, \"f\", sep = \" \")\n",
        "        embeddings_index[word] = coefs\n",
        "\n",
        "print(\"Found %s word vectors\" % len(embeddings_index))"
      ],
      "execution_count": 13,
      "outputs": [
        {
          "output_type": "stream",
          "text": [
            "Found 400000 word vectors\n"
          ],
          "name": "stdout"
        }
      ]
    },
    {
      "cell_type": "markdown",
      "metadata": {
        "id": "Fp77lcqWciV_",
        "colab_type": "text"
      },
      "source": [
        "Let's vectorize the text"
      ]
    },
    {
      "cell_type": "code",
      "metadata": {
        "id": "gNJKcyN0ckua",
        "colab_type": "code",
        "colab": {}
      },
      "source": [
        "vectorizer = TextVectorization(max_tokens = 20000, output_sequence_length = 28)\n",
        "vectorizer.adapt(x_train)"
      ],
      "execution_count": 58,
      "outputs": []
    },
    {
      "cell_type": "markdown",
      "metadata": {
        "id": "gbluI9SveRru",
        "colab_type": "text"
      },
      "source": [
        "Now I want to see the vocab"
      ]
    },
    {
      "cell_type": "code",
      "metadata": {
        "id": "_rO5-IpLeQ0M",
        "colab_type": "code",
        "colab": {
          "base_uri": "https://localhost:8080/",
          "height": 238
        },
        "outputId": "4f6d5dd4-2948-4b90-fbcc-50818f16a654"
      },
      "source": [
        "vectorizer.get_vocabulary()[:13] #mostly stopwords"
      ],
      "execution_count": 59,
      "outputs": [
        {
          "output_type": "execute_result",
          "data": {
            "text/plain": [
              "['',\n",
              " '[UNK]',\n",
              " 'the',\n",
              " 'i',\n",
              " 'to',\n",
              " 'and',\n",
              " 'a',\n",
              " 'it',\n",
              " 'is',\n",
              " 'of',\n",
              " 'this',\n",
              " 'for',\n",
              " 'that']"
            ]
          },
          "metadata": {
            "tags": []
          },
          "execution_count": 59
        }
      ]
    },
    {
      "cell_type": "markdown",
      "metadata": {
        "id": "OhPj-Ciee9iU",
        "colab_type": "text"
      },
      "source": [
        "I make a dictionary between indices and words."
      ]
    },
    {
      "cell_type": "code",
      "metadata": {
        "id": "hLuzpRnTes1o",
        "colab_type": "code",
        "colab": {}
      },
      "source": [
        "voc = vectorizer.get_vocabulary()\n",
        "word_index = dict(zip(voc, range(2, len(voc))))"
      ],
      "execution_count": 60,
      "outputs": []
    },
    {
      "cell_type": "markdown",
      "metadata": {
        "id": "Oa_3C0-KQiIw",
        "colab_type": "text"
      },
      "source": [
        "I want to have a mapping between words (strings) and glove vectors for later"
      ]
    },
    {
      "cell_type": "code",
      "metadata": {
        "id": "Sf7mGSpcQmcz",
        "colab_type": "code",
        "colab": {
          "base_uri": "https://localhost:8080/",
          "height": 34
        },
        "outputId": "5a06cb4f-c921-4fad-f5a5-ebc5a97e0508"
      },
      "source": [
        "embeddings_index = {}\n",
        "\n",
        "with open(\"glove.6B.100d.txt\") as f:\n",
        "    for line in f:\n",
        "        word, coefs = line.split(maxsplit = 1)\n",
        "        coefs = np.fromstring(coefs, \"f\", sep = \" \")\n",
        "        embeddings_index[word] = coefs\n",
        "\n",
        "print(\"Found %s word vectors\" % len(embeddings_index))"
      ],
      "execution_count": 61,
      "outputs": [
        {
          "output_type": "stream",
          "text": [
            "Found 400000 word vectors\n"
          ],
          "name": "stdout"
        }
      ]
    },
    {
      "cell_type": "markdown",
      "metadata": {
        "id": "B7uKlCgRlqpx",
        "colab_type": "text"
      },
      "source": [
        "I'll transform x_train and x_test."
      ]
    },
    {
      "cell_type": "code",
      "metadata": {
        "id": "pvjxl9wslv-a",
        "colab_type": "code",
        "colab": {}
      },
      "source": [
        "vec_train = vectorizer(np.array([[s] for s in x_train])).numpy()\n",
        "vec_test = vectorizer(np.array([[s] for s in x_test])).numpy()"
      ],
      "execution_count": 62,
      "outputs": []
    },
    {
      "cell_type": "markdown",
      "metadata": {
        "id": "QyPYffCMgSgN",
        "colab_type": "text"
      },
      "source": [
        "Now I prepare the embedding matrix for the embedding layer."
      ]
    },
    {
      "cell_type": "code",
      "metadata": {
        "id": "nj0TlbGEgWr7",
        "colab_type": "code",
        "colab": {
          "base_uri": "https://localhost:8080/",
          "height": 34
        },
        "outputId": "42d5f4c9-1dac-47c3-a461-cd4ad8acfff7"
      },
      "source": [
        "num_tokens = len(voc) + 2\n",
        "embedding_dim = 100\n",
        "\n",
        "hits = 0\n",
        "misses = 0\n",
        "\n",
        "embedding_matrix = np.zeros((num_tokens, embedding_dim))\n",
        "\n",
        "for word, i in word_index.items():\n",
        "    embedding_vector = embeddings_index.get(word)\n",
        "    if embedding_vector is not None: # If the word is not in vocab I get only zeroes\n",
        "        embedding_matrix[i] = embedding_vector\n",
        "        hits += 1\n",
        "\n",
        "    else:\n",
        "        misses +=1\n",
        "\n",
        "print(\"Converted %d words and missed %d\" % (hits, misses))"
      ],
      "execution_count": 63,
      "outputs": [
        {
          "output_type": "stream",
          "text": [
            "Converted 8881 words and missed 2870\n"
          ],
          "name": "stdout"
        }
      ]
    },
    {
      "cell_type": "markdown",
      "metadata": {
        "id": "g3YC86IqifuE",
        "colab_type": "text"
      },
      "source": [
        "Now I can finally make an embedding layer:"
      ]
    },
    {
      "cell_type": "code",
      "metadata": {
        "id": "VaO6evzpiilg",
        "colab_type": "code",
        "colab": {}
      },
      "source": [
        "embedding_layer = Embedding(input_dim = num_tokens, output_dim = embedding_dim,\n",
        "                            embeddings_initializer = Constant(embedding_matrix),\n",
        "                            trainable = False)"
      ],
      "execution_count": 64,
      "outputs": []
    },
    {
      "cell_type": "markdown",
      "metadata": {
        "id": "H1mQZO7RfEIl",
        "colab_type": "text"
      },
      "source": [
        "### Up to here it was the same thing. Preprocessing is common, the ML/AI is the less relevant part.\n",
        "\n",
        "#### Now I'll do three models. A dense and an RNN/LSTM one."
      ]
    },
    {
      "cell_type": "code",
      "metadata": {
        "id": "zSzuJvkCfEIm",
        "colab_type": "code",
        "colab": {}
      },
      "source": [
        "def plain():\n",
        "    inputs = Input(name = \"inputs\", shape = 28)\n",
        "    layer = Dense(units = 128)(inputs)\n",
        "    layer = Activation(\"relu\")(layer)\n",
        "    layer = Dropout(0.5)(layer)\n",
        "    layer = Dense(units = 64)(layer)\n",
        "    layer = Activation(\"relu\")(layer)\n",
        "    layer = Dropout(0.5)(layer)\n",
        "    layer = Dense(units = 32)(layer)\n",
        "    layer = Activation(\"relu\")(layer)\n",
        "    layer = Dropout(0.5)(layer)\n",
        "    layer = Dense(units = 16)(layer)\n",
        "    layer = Activation(\"relu\")(layer)\n",
        "    layer = Dropout(0.5)(layer)\n",
        "    layer = Dense(units = 8)(layer)\n",
        "    layer = Activation(\"relu\")(layer)\n",
        "    layer = Dense(units = 1)(layer)\n",
        "    output = Activation(\"sigmoid\")(layer)\n",
        "    \n",
        "    model = Model(inputs = inputs, outputs = output)\n",
        "    \n",
        "    return model"
      ],
      "execution_count": 70,
      "outputs": []
    },
    {
      "cell_type": "markdown",
      "metadata": {
        "id": "QKm5O-Q0fEIo",
        "colab_type": "text"
      },
      "source": [
        "### Now let's create the model and make a summary"
      ]
    },
    {
      "cell_type": "code",
      "metadata": {
        "id": "ld3d9S7AfEIo",
        "colab_type": "code",
        "colab": {
          "base_uri": "https://localhost:8080/",
          "height": 731
        },
        "outputId": "9c36af86-7beb-47b6-8dbb-b7d65bbb5571"
      },
      "source": [
        "plain_model = plain()\n",
        "\n",
        "plain_model.summary()"
      ],
      "execution_count": 71,
      "outputs": [
        {
          "output_type": "stream",
          "text": [
            "Model: \"functional_17\"\n",
            "_________________________________________________________________\n",
            "Layer (type)                 Output Shape              Param #   \n",
            "=================================================================\n",
            "inputs (InputLayer)          [(None, 28)]              0         \n",
            "_________________________________________________________________\n",
            "dense_32 (Dense)             (None, 128)               3712      \n",
            "_________________________________________________________________\n",
            "activation_32 (Activation)   (None, 128)               0         \n",
            "_________________________________________________________________\n",
            "dropout_20 (Dropout)         (None, 128)               0         \n",
            "_________________________________________________________________\n",
            "dense_33 (Dense)             (None, 64)                8256      \n",
            "_________________________________________________________________\n",
            "activation_33 (Activation)   (None, 64)                0         \n",
            "_________________________________________________________________\n",
            "dropout_21 (Dropout)         (None, 64)                0         \n",
            "_________________________________________________________________\n",
            "dense_34 (Dense)             (None, 32)                2080      \n",
            "_________________________________________________________________\n",
            "activation_34 (Activation)   (None, 32)                0         \n",
            "_________________________________________________________________\n",
            "dropout_22 (Dropout)         (None, 32)                0         \n",
            "_________________________________________________________________\n",
            "dense_35 (Dense)             (None, 16)                528       \n",
            "_________________________________________________________________\n",
            "activation_35 (Activation)   (None, 16)                0         \n",
            "_________________________________________________________________\n",
            "dropout_23 (Dropout)         (None, 16)                0         \n",
            "_________________________________________________________________\n",
            "dense_36 (Dense)             (None, 8)                 136       \n",
            "_________________________________________________________________\n",
            "activation_36 (Activation)   (None, 8)                 0         \n",
            "_________________________________________________________________\n",
            "dense_37 (Dense)             (None, 1)                 9         \n",
            "_________________________________________________________________\n",
            "activation_37 (Activation)   (None, 1)                 0         \n",
            "=================================================================\n",
            "Total params: 14,721\n",
            "Trainable params: 14,721\n",
            "Non-trainable params: 0\n",
            "_________________________________________________________________\n"
          ],
          "name": "stdout"
        }
      ]
    },
    {
      "cell_type": "code",
      "metadata": {
        "id": "1s1Zu0NxfEIq",
        "colab_type": "code",
        "colab": {
          "base_uri": "https://localhost:8080/",
          "height": 1000
        },
        "outputId": "54d85545-8830-4158-9962-0b3d9d961eea"
      },
      "source": [
        "plot_model(plain_model, show_shapes = True, show_layer_names = True)"
      ],
      "execution_count": 72,
      "outputs": [
        {
          "output_type": "execute_result",
          "data": {
            "image/png": "[encoded data removed]",
            "text/plain": [
              "<IPython.core.display.Image object>"
            ]
          },
          "metadata": {
            "tags": []
          },
          "execution_count": 72
        }
      ]
    },
    {
      "cell_type": "markdown",
      "metadata": {
        "id": "j94_b7PVfEIs",
        "colab_type": "text"
      },
      "source": [
        "### There is probably going to be a crazy overfitting, but let's do it."
      ]
    },
    {
      "cell_type": "code",
      "metadata": {
        "id": "JVYyAm_8fEIs",
        "colab_type": "code",
        "colab": {
          "base_uri": "https://localhost:8080/",
          "height": 1000
        },
        "outputId": "0a44e759-0c1e-484b-9ffc-a087774cf416"
      },
      "source": [
        "plain_model.compile(loss = \"binary_crossentropy\", optimizer = Adam(), metrics = [\"accuracy\"])\n",
        "\n",
        "#Uncomment for training\n",
        "\n",
        "plain_model.fit(vec_train, y_train, batch_size = 128, epochs = 30, validation_split = 0.2)"
      ],
      "execution_count": 73,
      "outputs": [
        {
          "output_type": "stream",
          "text": [
            "Epoch 1/30\n",
            "10/10 [==============================] - 0s 15ms/step - loss: 342.1767 - accuracy: 0.5117 - val_loss: 52.1505 - val_accuracy: 0.4656\n",
            "Epoch 2/30\n",
            "10/10 [==============================] - 0s 4ms/step - loss: 226.8225 - accuracy: 0.4961 - val_loss: 22.4864 - val_accuracy: 0.4906\n",
            "Epoch 3/30\n",
            "10/10 [==============================] - 0s 4ms/step - loss: 162.9054 - accuracy: 0.4844 - val_loss: 13.3064 - val_accuracy: 0.4688\n",
            "Epoch 4/30\n",
            "10/10 [==============================] - 0s 4ms/step - loss: 112.5120 - accuracy: 0.5109 - val_loss: 8.6020 - val_accuracy: 0.4844\n",
            "Epoch 5/30\n",
            "10/10 [==============================] - 0s 4ms/step - loss: 103.8200 - accuracy: 0.4984 - val_loss: 6.7258 - val_accuracy: 0.4844\n",
            "Epoch 6/30\n",
            "10/10 [==============================] - 0s 4ms/step - loss: 85.7516 - accuracy: 0.4633 - val_loss: 4.7491 - val_accuracy: 0.4781\n",
            "Epoch 7/30\n",
            "10/10 [==============================] - 0s 4ms/step - loss: 67.1932 - accuracy: 0.4844 - val_loss: 3.2804 - val_accuracy: 0.4719\n",
            "Epoch 8/30\n",
            "10/10 [==============================] - 0s 4ms/step - loss: 53.9371 - accuracy: 0.5266 - val_loss: 2.5157 - val_accuracy: 0.4781\n",
            "Epoch 9/30\n",
            "10/10 [==============================] - 0s 4ms/step - loss: 48.5268 - accuracy: 0.4883 - val_loss: 1.9315 - val_accuracy: 0.4875\n",
            "Epoch 10/30\n",
            "10/10 [==============================] - 0s 4ms/step - loss: 40.0111 - accuracy: 0.5133 - val_loss: 1.7839 - val_accuracy: 0.4969\n",
            "Epoch 11/30\n",
            "10/10 [==============================] - 0s 4ms/step - loss: 32.4206 - accuracy: 0.4859 - val_loss: 1.6284 - val_accuracy: 0.4875\n",
            "Epoch 12/30\n",
            "10/10 [==============================] - 0s 4ms/step - loss: 32.1505 - accuracy: 0.5031 - val_loss: 1.3979 - val_accuracy: 0.4844\n",
            "Epoch 13/30\n",
            "10/10 [==============================] - 0s 4ms/step - loss: 28.3006 - accuracy: 0.5063 - val_loss: 1.4354 - val_accuracy: 0.5406\n",
            "Epoch 14/30\n",
            "10/10 [==============================] - 0s 4ms/step - loss: 25.7521 - accuracy: 0.5352 - val_loss: 1.3738 - val_accuracy: 0.5375\n",
            "Epoch 15/30\n",
            "10/10 [==============================] - 0s 4ms/step - loss: 22.0368 - accuracy: 0.5094 - val_loss: 1.3175 - val_accuracy: 0.5344\n",
            "Epoch 16/30\n",
            "10/10 [==============================] - 0s 4ms/step - loss: 19.0792 - accuracy: 0.4977 - val_loss: 1.2278 - val_accuracy: 0.5437\n",
            "Epoch 17/30\n",
            "10/10 [==============================] - 0s 4ms/step - loss: 17.2957 - accuracy: 0.5016 - val_loss: 1.2511 - val_accuracy: 0.5125\n",
            "Epoch 18/30\n",
            "10/10 [==============================] - 0s 4ms/step - loss: 17.7655 - accuracy: 0.4875 - val_loss: 1.2203 - val_accuracy: 0.5219\n",
            "Epoch 19/30\n",
            "10/10 [==============================] - 0s 4ms/step - loss: 18.2023 - accuracy: 0.4984 - val_loss: 1.3019 - val_accuracy: 0.5063\n",
            "Epoch 20/30\n",
            "10/10 [==============================] - 0s 5ms/step - loss: 14.3389 - accuracy: 0.4688 - val_loss: 1.2010 - val_accuracy: 0.4844\n",
            "Epoch 21/30\n",
            "10/10 [==============================] - 0s 4ms/step - loss: 12.9990 - accuracy: 0.5055 - val_loss: 1.2235 - val_accuracy: 0.5000\n",
            "Epoch 22/30\n",
            "10/10 [==============================] - 0s 4ms/step - loss: 13.6430 - accuracy: 0.5117 - val_loss: 1.3412 - val_accuracy: 0.5000\n",
            "Epoch 23/30\n",
            "10/10 [==============================] - 0s 4ms/step - loss: 13.2171 - accuracy: 0.5164 - val_loss: 1.3054 - val_accuracy: 0.5125\n",
            "Epoch 24/30\n",
            "10/10 [==============================] - 0s 4ms/step - loss: 11.8419 - accuracy: 0.4828 - val_loss: 1.2662 - val_accuracy: 0.5188\n",
            "Epoch 25/30\n",
            "10/10 [==============================] - 0s 4ms/step - loss: 10.4388 - accuracy: 0.4852 - val_loss: 1.1571 - val_accuracy: 0.5063\n",
            "Epoch 26/30\n",
            "10/10 [==============================] - 0s 4ms/step - loss: 9.9862 - accuracy: 0.5016 - val_loss: 1.1464 - val_accuracy: 0.5000\n",
            "Epoch 27/30\n",
            "10/10 [==============================] - 0s 4ms/step - loss: 10.3062 - accuracy: 0.5055 - val_loss: 1.1768 - val_accuracy: 0.5188\n",
            "Epoch 28/30\n",
            "10/10 [==============================] - 0s 4ms/step - loss: 10.6644 - accuracy: 0.4938 - val_loss: 1.1410 - val_accuracy: 0.5156\n",
            "Epoch 29/30\n",
            "10/10 [==============================] - 0s 4ms/step - loss: 8.5124 - accuracy: 0.4789 - val_loss: 1.1406 - val_accuracy: 0.5156\n",
            "Epoch 30/30\n",
            "10/10 [==============================] - 0s 4ms/step - loss: 8.6450 - accuracy: 0.5008 - val_loss: 1.0485 - val_accuracy: 0.5250\n"
          ],
          "name": "stdout"
        },
        {
          "output_type": "execute_result",
          "data": {
            "text/plain": [
              "<tensorflow.python.keras.callbacks.History at 0x7f41551fd630>"
            ]
          },
          "metadata": {
            "tags": []
          },
          "execution_count": 73
        }
      ]
    },
    {
      "cell_type": "markdown",
      "metadata": {
        "id": "GvrDF2ErfEIu",
        "colab_type": "text"
      },
      "source": [
        "## It didn't learn much. Probably it's just that the network is learning the logistic regression or something similar to that separation.\n",
        "\n",
        "### Let's do an RNN and later an LSTM. I'm going make them overfit like crazy"
      ]
    },
    {
      "cell_type": "code",
      "metadata": {
        "id": "mzckkvTofEIv",
        "colab_type": "code",
        "colab": {}
      },
      "source": [
        "def plain_RNN():\n",
        "    inputs = Input(name = \"inputs\", shape = 28)\n",
        "    layer = embedding_layer(inputs)\n",
        "    layer = SimpleRNN(units = 64, activation = \"relu\")(layer)\n",
        "    layer = Dropout(0.5)(layer)\n",
        "    layer = Dense(units = 400, activation = \"relu\")(layer)\n",
        "    layer = Dropout(0.5)(layer)\n",
        "    layer = Dense(units = 40, activation = \"relu\")(layer)\n",
        "    layer = Dropout(0.5)(layer)\n",
        "    layer = Dense(units = 4, activation = \"relu\")(layer)\n",
        "    layer = Dense(units = 1)(layer)\n",
        "    output = Activation(\"sigmoid\")(layer)\n",
        "    \n",
        "    model = Model(inputs = inputs, outputs = output)\n",
        "    \n",
        "    return model"
      ],
      "execution_count": 90,
      "outputs": []
    },
    {
      "cell_type": "code",
      "metadata": {
        "id": "bFilDEwffEIx",
        "colab_type": "code",
        "colab": {
          "base_uri": "https://localhost:8080/",
          "height": 527
        },
        "outputId": "8b27dcd1-425e-4f59-b3a7-979473a7699b"
      },
      "source": [
        "rnn_model = plain_RNN()\n",
        "\n",
        "rnn_model.summary()"
      ],
      "execution_count": 91,
      "outputs": [
        {
          "output_type": "stream",
          "text": [
            "Model: \"functional_29\"\n",
            "_________________________________________________________________\n",
            "Layer (type)                 Output Shape              Param #   \n",
            "=================================================================\n",
            "inputs (InputLayer)          [(None, 28)]              0         \n",
            "_________________________________________________________________\n",
            "embedding_2 (Embedding)      multiple                  1175500   \n",
            "_________________________________________________________________\n",
            "simple_rnn_6 (SimpleRNN)     (None, 64)                10560     \n",
            "_________________________________________________________________\n",
            "dropout_32 (Dropout)         (None, 64)                0         \n",
            "_________________________________________________________________\n",
            "dense_49 (Dense)             (None, 400)               26000     \n",
            "_________________________________________________________________\n",
            "dropout_33 (Dropout)         (None, 400)               0         \n",
            "_________________________________________________________________\n",
            "dense_50 (Dense)             (None, 40)                16040     \n",
            "_________________________________________________________________\n",
            "dropout_34 (Dropout)         (None, 40)                0         \n",
            "_________________________________________________________________\n",
            "dense_51 (Dense)             (None, 4)                 164       \n",
            "_________________________________________________________________\n",
            "dense_52 (Dense)             (None, 1)                 5         \n",
            "_________________________________________________________________\n",
            "activation_43 (Activation)   (None, 1)                 0         \n",
            "=================================================================\n",
            "Total params: 1,228,269\n",
            "Trainable params: 52,769\n",
            "Non-trainable params: 1,175,500\n",
            "_________________________________________________________________\n"
          ],
          "name": "stdout"
        }
      ]
    },
    {
      "cell_type": "code",
      "metadata": {
        "id": "nSk2GnY9fEI0",
        "colab_type": "code",
        "colab": {
          "base_uri": "https://localhost:8080/",
          "height": 1000
        },
        "outputId": "d359d369-f467-49fa-d46f-759de98b3b8d"
      },
      "source": [
        "plot_model(rnn_model, show_shapes = True, show_layer_names = True, expand_nested = True)"
      ],
      "execution_count": 92,
      "outputs": [
        {
          "output_type": "execute_result",
          "data": {
            "image/png": "[encoded data removed]",
            "text/plain": [
              "<IPython.core.display.Image object>"
            ]
          },
          "metadata": {
            "tags": []
          },
          "execution_count": 92
        }
      ]
    },
    {
      "cell_type": "code",
      "metadata": {
        "id": "n3xqMoUzfEI3",
        "colab_type": "code",
        "colab": {
          "base_uri": "https://localhost:8080/",
          "height": 1000
        },
        "outputId": "a90091d5-4ac3-45e8-f66e-522ea8ca606a"
      },
      "source": [
        "rnn_model.compile(loss = \"binary_crossentropy\", optimizer = Adam(), metrics = [\"accuracy\"])\n",
        "\n",
        "#Uncomment for training\n",
        "\n",
        "rnn_model.fit(vec_train, y_train, batch_size = 128, epochs = 50, validation_split = 0.2)"
      ],
      "execution_count": 93,
      "outputs": [
        {
          "output_type": "stream",
          "text": [
            "Epoch 1/50\n",
            "10/10 [==============================] - 0s 31ms/step - loss: 0.7071 - accuracy: 0.4945 - val_loss: 0.6947 - val_accuracy: 0.4875\n",
            "Epoch 2/50\n",
            "10/10 [==============================] - 0s 14ms/step - loss: 0.6950 - accuracy: 0.5031 - val_loss: 0.6938 - val_accuracy: 0.4844\n",
            "Epoch 3/50\n",
            "10/10 [==============================] - 0s 12ms/step - loss: 0.6940 - accuracy: 0.5164 - val_loss: 0.6934 - val_accuracy: 0.5000\n",
            "Epoch 4/50\n",
            "10/10 [==============================] - 0s 12ms/step - loss: 0.6934 - accuracy: 0.5086 - val_loss: 0.6929 - val_accuracy: 0.5094\n",
            "Epoch 5/50\n",
            "10/10 [==============================] - 0s 14ms/step - loss: 0.6919 - accuracy: 0.5227 - val_loss: 0.6930 - val_accuracy: 0.5000\n",
            "Epoch 6/50\n",
            "10/10 [==============================] - 0s 14ms/step - loss: 0.6930 - accuracy: 0.5234 - val_loss: 0.6928 - val_accuracy: 0.5031\n",
            "Epoch 7/50\n",
            "10/10 [==============================] - 0s 13ms/step - loss: 0.6925 - accuracy: 0.5203 - val_loss: 0.6925 - val_accuracy: 0.4938\n",
            "Epoch 8/50\n",
            "10/10 [==============================] - 0s 13ms/step - loss: 0.6930 - accuracy: 0.5063 - val_loss: 0.6925 - val_accuracy: 0.5063\n",
            "Epoch 9/50\n",
            "10/10 [==============================] - 0s 14ms/step - loss: 0.6932 - accuracy: 0.5258 - val_loss: 0.6923 - val_accuracy: 0.4938\n",
            "Epoch 10/50\n",
            "10/10 [==============================] - 0s 13ms/step - loss: 0.6917 - accuracy: 0.5414 - val_loss: 0.6921 - val_accuracy: 0.5344\n",
            "Epoch 11/50\n",
            "10/10 [==============================] - 0s 14ms/step - loss: 0.6918 - accuracy: 0.5305 - val_loss: 0.6923 - val_accuracy: 0.5094\n",
            "Epoch 12/50\n",
            "10/10 [==============================] - 0s 14ms/step - loss: 0.6887 - accuracy: 0.5648 - val_loss: 0.6914 - val_accuracy: 0.5375\n",
            "Epoch 13/50\n",
            "10/10 [==============================] - 0s 13ms/step - loss: 0.6907 - accuracy: 0.5328 - val_loss: 0.6919 - val_accuracy: 0.5250\n",
            "Epoch 14/50\n",
            "10/10 [==============================] - 0s 12ms/step - loss: 0.6894 - accuracy: 0.5641 - val_loss: 0.6929 - val_accuracy: 0.4906\n",
            "Epoch 15/50\n",
            "10/10 [==============================] - 0s 13ms/step - loss: 0.6864 - accuracy: 0.5562 - val_loss: 0.6920 - val_accuracy: 0.5281\n",
            "Epoch 16/50\n",
            "10/10 [==============================] - 0s 14ms/step - loss: 0.6886 - accuracy: 0.5609 - val_loss: 0.6908 - val_accuracy: 0.5469\n",
            "Epoch 17/50\n",
            "10/10 [==============================] - 0s 14ms/step - loss: 0.6826 - accuracy: 0.5445 - val_loss: 0.6910 - val_accuracy: 0.5406\n",
            "Epoch 18/50\n",
            "10/10 [==============================] - 0s 12ms/step - loss: 0.6819 - accuracy: 0.5719 - val_loss: 0.6920 - val_accuracy: 0.5250\n",
            "Epoch 19/50\n",
            "10/10 [==============================] - 0s 12ms/step - loss: 0.6804 - accuracy: 0.5719 - val_loss: 0.6935 - val_accuracy: 0.5156\n",
            "Epoch 20/50\n",
            "10/10 [==============================] - 0s 15ms/step - loss: 0.6749 - accuracy: 0.5883 - val_loss: 0.6924 - val_accuracy: 0.5250\n",
            "Epoch 21/50\n",
            "10/10 [==============================] - 0s 12ms/step - loss: 0.6726 - accuracy: 0.5945 - val_loss: 0.6943 - val_accuracy: 0.5219\n",
            "Epoch 22/50\n",
            "10/10 [==============================] - 0s 13ms/step - loss: 0.6725 - accuracy: 0.5859 - val_loss: 0.6986 - val_accuracy: 0.5000\n",
            "Epoch 23/50\n",
            "10/10 [==============================] - 0s 15ms/step - loss: 0.6674 - accuracy: 0.6047 - val_loss: 0.7060 - val_accuracy: 0.5250\n",
            "Epoch 24/50\n",
            "10/10 [==============================] - 0s 14ms/step - loss: 0.6555 - accuracy: 0.6172 - val_loss: 0.7086 - val_accuracy: 0.5063\n",
            "Epoch 25/50\n",
            "10/10 [==============================] - 0s 14ms/step - loss: 0.6436 - accuracy: 0.6328 - val_loss: 0.7168 - val_accuracy: 0.5188\n",
            "Epoch 26/50\n",
            "10/10 [==============================] - 0s 13ms/step - loss: 0.6363 - accuracy: 0.6398 - val_loss: 0.7228 - val_accuracy: 0.5125\n",
            "Epoch 27/50\n",
            "10/10 [==============================] - 0s 14ms/step - loss: 0.6314 - accuracy: 0.6539 - val_loss: 0.7367 - val_accuracy: 0.5312\n",
            "Epoch 28/50\n",
            "10/10 [==============================] - 0s 14ms/step - loss: 0.6128 - accuracy: 0.6773 - val_loss: 0.7517 - val_accuracy: 0.5063\n",
            "Epoch 29/50\n",
            "10/10 [==============================] - 0s 14ms/step - loss: 0.5982 - accuracy: 0.6805 - val_loss: 0.7824 - val_accuracy: 0.5000\n",
            "Epoch 30/50\n",
            "10/10 [==============================] - 0s 13ms/step - loss: 0.5762 - accuracy: 0.7078 - val_loss: 0.8043 - val_accuracy: 0.5000\n",
            "Epoch 31/50\n",
            "10/10 [==============================] - 0s 12ms/step - loss: 0.5625 - accuracy: 0.7164 - val_loss: 0.8401 - val_accuracy: 0.4906\n",
            "Epoch 32/50\n",
            "10/10 [==============================] - 0s 12ms/step - loss: 0.5409 - accuracy: 0.7305 - val_loss: 0.8813 - val_accuracy: 0.4906\n",
            "Epoch 33/50\n",
            "10/10 [==============================] - 0s 14ms/step - loss: 0.5109 - accuracy: 0.7625 - val_loss: 0.9138 - val_accuracy: 0.4812\n",
            "Epoch 34/50\n",
            "10/10 [==============================] - 0s 14ms/step - loss: 0.4919 - accuracy: 0.7641 - val_loss: 0.9626 - val_accuracy: 0.5094\n",
            "Epoch 35/50\n",
            "10/10 [==============================] - 0s 13ms/step - loss: 0.4616 - accuracy: 0.7805 - val_loss: 1.0230 - val_accuracy: 0.5156\n",
            "Epoch 36/50\n",
            "10/10 [==============================] - 0s 13ms/step - loss: 0.4407 - accuracy: 0.8000 - val_loss: 1.0713 - val_accuracy: 0.4938\n",
            "Epoch 37/50\n",
            "10/10 [==============================] - 0s 15ms/step - loss: 0.4199 - accuracy: 0.8125 - val_loss: 1.0823 - val_accuracy: 0.4938\n",
            "Epoch 38/50\n",
            "10/10 [==============================] - 0s 14ms/step - loss: 0.3757 - accuracy: 0.8398 - val_loss: 1.1889 - val_accuracy: 0.4844\n",
            "Epoch 39/50\n",
            "10/10 [==============================] - 0s 13ms/step - loss: 0.3394 - accuracy: 0.8531 - val_loss: 1.2867 - val_accuracy: 0.4812\n",
            "Epoch 40/50\n",
            "10/10 [==============================] - 0s 15ms/step - loss: 0.3267 - accuracy: 0.8648 - val_loss: 1.4268 - val_accuracy: 0.4812\n",
            "Epoch 41/50\n",
            "10/10 [==============================] - 0s 14ms/step - loss: 0.3091 - accuracy: 0.8750 - val_loss: 1.4691 - val_accuracy: 0.4625\n",
            "Epoch 42/50\n",
            "10/10 [==============================] - 0s 14ms/step - loss: 0.2963 - accuracy: 0.8883 - val_loss: 1.5322 - val_accuracy: 0.4875\n",
            "Epoch 43/50\n",
            "10/10 [==============================] - 0s 14ms/step - loss: 0.3019 - accuracy: 0.8734 - val_loss: 1.5314 - val_accuracy: 0.4875\n",
            "Epoch 44/50\n",
            "10/10 [==============================] - 0s 13ms/step - loss: 0.2423 - accuracy: 0.9039 - val_loss: 1.5369 - val_accuracy: 0.5031\n",
            "Epoch 45/50\n",
            "10/10 [==============================] - 0s 13ms/step - loss: 0.2504 - accuracy: 0.9055 - val_loss: 1.6771 - val_accuracy: 0.5094\n",
            "Epoch 46/50\n",
            "10/10 [==============================] - 0s 14ms/step - loss: 0.2179 - accuracy: 0.9156 - val_loss: 1.8333 - val_accuracy: 0.4688\n",
            "Epoch 47/50\n",
            "10/10 [==============================] - 0s 14ms/step - loss: 0.2164 - accuracy: 0.9109 - val_loss: 1.8737 - val_accuracy: 0.4812\n",
            "Epoch 48/50\n",
            "10/10 [==============================] - 0s 14ms/step - loss: 0.2135 - accuracy: 0.9133 - val_loss: 2.0772 - val_accuracy: 0.4906\n",
            "Epoch 49/50\n",
            "10/10 [==============================] - 0s 13ms/step - loss: 0.1944 - accuracy: 0.9219 - val_loss: 1.9792 - val_accuracy: 0.4969\n",
            "Epoch 50/50\n",
            "10/10 [==============================] - 0s 13ms/step - loss: 0.1735 - accuracy: 0.9320 - val_loss: 2.0826 - val_accuracy: 0.5063\n"
          ],
          "name": "stdout"
        },
        {
          "output_type": "execute_result",
          "data": {
            "text/plain": [
              "<tensorflow.python.keras.callbacks.History at 0x7f40db59a160>"
            ]
          },
          "metadata": {
            "tags": []
          },
          "execution_count": 93
        }
      ]
    },
    {
      "cell_type": "code",
      "metadata": {
        "id": "SU1-yyhfnld8",
        "colab_type": "code",
        "colab": {}
      },
      "source": [
        "def LSTM_RNN():\n",
        "    inputs = Input(name = \"inputs\", shape = 28)\n",
        "    layer = embedding_layer(inputs)\n",
        "    layer = LSTM(units = 52)(layer)\n",
        "    layer = Dropout(0.5)(layer)\n",
        "    layer = Dense(units = 200)(layer)\n",
        "    layer = Dropout(0.5)(layer)\n",
        "    layer = Dense(units = 100)(layer)\n",
        "    layer = Dropout(0.5)(layer)\n",
        "    layer = Dense(units = 10)(layer)\n",
        "    layer = Dropout(0.5)(layer)\n",
        "    layer = Dense(units = 1)(layer)\n",
        "    output = Activation(\"sigmoid\")(layer)\n",
        "    \n",
        "    model = Model(inputs = inputs, outputs = output)\n",
        "    \n",
        "    return model"
      ],
      "execution_count": 86,
      "outputs": []
    },
    {
      "cell_type": "code",
      "metadata": {
        "id": "lm2DtskCnsxd",
        "colab_type": "code",
        "colab": {
          "base_uri": "https://localhost:8080/",
          "height": 561
        },
        "outputId": "b27492ff-3069-4317-a380-d3c157a6e925"
      },
      "source": [
        "LSTM_model = LSTM_RNN()\n",
        "\n",
        "LSTM_model.summary()"
      ],
      "execution_count": 87,
      "outputs": [
        {
          "output_type": "stream",
          "text": [
            "Model: \"functional_27\"\n",
            "_________________________________________________________________\n",
            "Layer (type)                 Output Shape              Param #   \n",
            "=================================================================\n",
            "inputs (InputLayer)          [(None, 28)]              0         \n",
            "_________________________________________________________________\n",
            "embedding_2 (Embedding)      multiple                  1175500   \n",
            "_________________________________________________________________\n",
            "lstm_3 (LSTM)                (None, 52)                31824     \n",
            "_________________________________________________________________\n",
            "dropout_28 (Dropout)         (None, 52)                0         \n",
            "_________________________________________________________________\n",
            "dense_45 (Dense)             (None, 200)               10600     \n",
            "_________________________________________________________________\n",
            "dropout_29 (Dropout)         (None, 200)               0         \n",
            "_________________________________________________________________\n",
            "dense_46 (Dense)             (None, 100)               20100     \n",
            "_________________________________________________________________\n",
            "dropout_30 (Dropout)         (None, 100)               0         \n",
            "_________________________________________________________________\n",
            "dense_47 (Dense)             (None, 10)                1010      \n",
            "_________________________________________________________________\n",
            "dropout_31 (Dropout)         (None, 10)                0         \n",
            "_________________________________________________________________\n",
            "dense_48 (Dense)             (None, 1)                 11        \n",
            "_________________________________________________________________\n",
            "activation_42 (Activation)   (None, 1)                 0         \n",
            "=================================================================\n",
            "Total params: 1,239,045\n",
            "Trainable params: 63,545\n",
            "Non-trainable params: 1,175,500\n",
            "_________________________________________________________________\n"
          ],
          "name": "stdout"
        }
      ]
    },
    {
      "cell_type": "code",
      "metadata": {
        "id": "CrP_RNJ_n5BY",
        "colab_type": "code",
        "colab": {
          "base_uri": "https://localhost:8080/",
          "height": 1000
        },
        "outputId": "b1b44988-97fc-4368-da20-1b78c682b6aa"
      },
      "source": [
        "LSTM_model.compile(loss = \"binary_crossentropy\", optimizer = Adam(), metrics = [\"accuracy\"])\n",
        "\n",
        "#Uncomment for training\n",
        "\n",
        "LSTM_model.fit(vec_train, y_train, batch_size = 128, epochs = 50, validation_split = 0.2)"
      ],
      "execution_count": 89,
      "outputs": [
        {
          "output_type": "stream",
          "text": [
            "Epoch 1/50\n",
            "10/10 [==============================] - 0s 42ms/step - loss: 0.6031 - accuracy: 0.6672 - val_loss: 0.7283 - val_accuracy: 0.5250\n",
            "Epoch 2/50\n",
            "10/10 [==============================] - 0s 8ms/step - loss: 0.5963 - accuracy: 0.6687 - val_loss: 0.7484 - val_accuracy: 0.5094\n",
            "Epoch 3/50\n",
            "10/10 [==============================] - 0s 7ms/step - loss: 0.5863 - accuracy: 0.6836 - val_loss: 0.7375 - val_accuracy: 0.5469\n",
            "Epoch 4/50\n",
            "10/10 [==============================] - 0s 6ms/step - loss: 0.5965 - accuracy: 0.6867 - val_loss: 0.7576 - val_accuracy: 0.5125\n",
            "Epoch 5/50\n",
            "10/10 [==============================] - 0s 7ms/step - loss: 0.5767 - accuracy: 0.6781 - val_loss: 0.7405 - val_accuracy: 0.5625\n",
            "Epoch 6/50\n",
            "10/10 [==============================] - 0s 7ms/step - loss: 0.5643 - accuracy: 0.7203 - val_loss: 0.7640 - val_accuracy: 0.5656\n",
            "Epoch 7/50\n",
            "10/10 [==============================] - 0s 7ms/step - loss: 0.5550 - accuracy: 0.7234 - val_loss: 0.7767 - val_accuracy: 0.5688\n",
            "Epoch 8/50\n",
            "10/10 [==============================] - 0s 7ms/step - loss: 0.5308 - accuracy: 0.7320 - val_loss: 0.7980 - val_accuracy: 0.5594\n",
            "Epoch 9/50\n",
            "10/10 [==============================] - 0s 6ms/step - loss: 0.5200 - accuracy: 0.7422 - val_loss: 0.7886 - val_accuracy: 0.5500\n",
            "Epoch 10/50\n",
            "10/10 [==============================] - 0s 6ms/step - loss: 0.5027 - accuracy: 0.7563 - val_loss: 0.8351 - val_accuracy: 0.5562\n",
            "Epoch 11/50\n",
            "10/10 [==============================] - 0s 6ms/step - loss: 0.5211 - accuracy: 0.7383 - val_loss: 0.8158 - val_accuracy: 0.5750\n",
            "Epoch 12/50\n",
            "10/10 [==============================] - 0s 7ms/step - loss: 0.4760 - accuracy: 0.7742 - val_loss: 0.8424 - val_accuracy: 0.5594\n",
            "Epoch 13/50\n",
            "10/10 [==============================] - 0s 6ms/step - loss: 0.4927 - accuracy: 0.7703 - val_loss: 0.8513 - val_accuracy: 0.5688\n",
            "Epoch 14/50\n",
            "10/10 [==============================] - 0s 6ms/step - loss: 0.4443 - accuracy: 0.7930 - val_loss: 0.8582 - val_accuracy: 0.5688\n",
            "Epoch 15/50\n",
            "10/10 [==============================] - 0s 7ms/step - loss: 0.4298 - accuracy: 0.8094 - val_loss: 0.9213 - val_accuracy: 0.5594\n",
            "Epoch 16/50\n",
            "10/10 [==============================] - 0s 7ms/step - loss: 0.4075 - accuracy: 0.8211 - val_loss: 0.9966 - val_accuracy: 0.5844\n",
            "Epoch 17/50\n",
            "10/10 [==============================] - 0s 8ms/step - loss: 0.4100 - accuracy: 0.8188 - val_loss: 1.0314 - val_accuracy: 0.5625\n",
            "Epoch 18/50\n",
            "10/10 [==============================] - 0s 7ms/step - loss: 0.3606 - accuracy: 0.8367 - val_loss: 0.9836 - val_accuracy: 0.5750\n",
            "Epoch 19/50\n",
            "10/10 [==============================] - 0s 6ms/step - loss: 0.3788 - accuracy: 0.8336 - val_loss: 1.0050 - val_accuracy: 0.6031\n",
            "Epoch 20/50\n",
            "10/10 [==============================] - 0s 6ms/step - loss: 0.3454 - accuracy: 0.8516 - val_loss: 1.0682 - val_accuracy: 0.5781\n",
            "Epoch 21/50\n",
            "10/10 [==============================] - 0s 6ms/step - loss: 0.3197 - accuracy: 0.8648 - val_loss: 1.0810 - val_accuracy: 0.5844\n",
            "Epoch 22/50\n",
            "10/10 [==============================] - 0s 6ms/step - loss: 0.3008 - accuracy: 0.8602 - val_loss: 1.2036 - val_accuracy: 0.5938\n",
            "Epoch 23/50\n",
            "10/10 [==============================] - 0s 7ms/step - loss: 0.3009 - accuracy: 0.8617 - val_loss: 1.4402 - val_accuracy: 0.5562\n",
            "Epoch 24/50\n",
            "10/10 [==============================] - 0s 7ms/step - loss: 0.3526 - accuracy: 0.8461 - val_loss: 1.0658 - val_accuracy: 0.5594\n",
            "Epoch 25/50\n",
            "10/10 [==============================] - 0s 6ms/step - loss: 0.3105 - accuracy: 0.8813 - val_loss: 1.2490 - val_accuracy: 0.5500\n",
            "Epoch 26/50\n",
            "10/10 [==============================] - 0s 6ms/step - loss: 0.3411 - accuracy: 0.8523 - val_loss: 1.0996 - val_accuracy: 0.5594\n",
            "Epoch 27/50\n",
            "10/10 [==============================] - 0s 6ms/step - loss: 0.3027 - accuracy: 0.8750 - val_loss: 1.1371 - val_accuracy: 0.5594\n",
            "Epoch 28/50\n",
            "10/10 [==============================] - 0s 7ms/step - loss: 0.2618 - accuracy: 0.8969 - val_loss: 1.2517 - val_accuracy: 0.5719\n",
            "Epoch 29/50\n",
            "10/10 [==============================] - 0s 8ms/step - loss: 0.2802 - accuracy: 0.8836 - val_loss: 1.3863 - val_accuracy: 0.5562\n",
            "Epoch 30/50\n",
            "10/10 [==============================] - 0s 7ms/step - loss: 0.2479 - accuracy: 0.9008 - val_loss: 1.4450 - val_accuracy: 0.5688\n",
            "Epoch 31/50\n",
            "10/10 [==============================] - 0s 6ms/step - loss: 0.2327 - accuracy: 0.8984 - val_loss: 1.4594 - val_accuracy: 0.5688\n",
            "Epoch 32/50\n",
            "10/10 [==============================] - 0s 6ms/step - loss: 0.2067 - accuracy: 0.9203 - val_loss: 1.5913 - val_accuracy: 0.5625\n",
            "Epoch 33/50\n",
            "10/10 [==============================] - 0s 6ms/step - loss: 0.1893 - accuracy: 0.9281 - val_loss: 1.7501 - val_accuracy: 0.5625\n",
            "Epoch 34/50\n",
            "10/10 [==============================] - 0s 6ms/step - loss: 0.1724 - accuracy: 0.9320 - val_loss: 1.7486 - val_accuracy: 0.5938\n",
            "Epoch 35/50\n",
            "10/10 [==============================] - 0s 6ms/step - loss: 0.1737 - accuracy: 0.9328 - val_loss: 1.6908 - val_accuracy: 0.5781\n",
            "Epoch 36/50\n",
            "10/10 [==============================] - 0s 6ms/step - loss: 0.1660 - accuracy: 0.9328 - val_loss: 2.1927 - val_accuracy: 0.5813\n",
            "Epoch 37/50\n",
            "10/10 [==============================] - 0s 7ms/step - loss: 0.2110 - accuracy: 0.9187 - val_loss: 2.2672 - val_accuracy: 0.5531\n",
            "Epoch 38/50\n",
            "10/10 [==============================] - 0s 6ms/step - loss: 0.1798 - accuracy: 0.9336 - val_loss: 1.6590 - val_accuracy: 0.5750\n",
            "Epoch 39/50\n",
            "10/10 [==============================] - 0s 6ms/step - loss: 0.1128 - accuracy: 0.9656 - val_loss: 2.2249 - val_accuracy: 0.5813\n",
            "Epoch 40/50\n",
            "10/10 [==============================] - 0s 6ms/step - loss: 0.1122 - accuracy: 0.9547 - val_loss: 2.3887 - val_accuracy: 0.5688\n",
            "Epoch 41/50\n",
            "10/10 [==============================] - 0s 6ms/step - loss: 0.1367 - accuracy: 0.9477 - val_loss: 2.3362 - val_accuracy: 0.6062\n",
            "Epoch 42/50\n",
            "10/10 [==============================] - 0s 6ms/step - loss: 0.1223 - accuracy: 0.9477 - val_loss: 2.0444 - val_accuracy: 0.6000\n",
            "Epoch 43/50\n",
            "10/10 [==============================] - 0s 7ms/step - loss: 0.1109 - accuracy: 0.9609 - val_loss: 2.5842 - val_accuracy: 0.5875\n",
            "Epoch 44/50\n",
            "10/10 [==============================] - 0s 7ms/step - loss: 0.1022 - accuracy: 0.9633 - val_loss: 2.4295 - val_accuracy: 0.5844\n",
            "Epoch 45/50\n",
            "10/10 [==============================] - 0s 7ms/step - loss: 0.0671 - accuracy: 0.9750 - val_loss: 2.7106 - val_accuracy: 0.6062\n",
            "Epoch 46/50\n",
            "10/10 [==============================] - 0s 6ms/step - loss: 0.0741 - accuracy: 0.9773 - val_loss: 2.6365 - val_accuracy: 0.5688\n",
            "Epoch 47/50\n",
            "10/10 [==============================] - 0s 7ms/step - loss: 0.0603 - accuracy: 0.9781 - val_loss: 3.3274 - val_accuracy: 0.6031\n",
            "Epoch 48/50\n",
            "10/10 [==============================] - 0s 6ms/step - loss: 0.2435 - accuracy: 0.9359 - val_loss: 2.2646 - val_accuracy: 0.5500\n",
            "Epoch 49/50\n",
            "10/10 [==============================] - 0s 6ms/step - loss: 0.2022 - accuracy: 0.9227 - val_loss: 1.7425 - val_accuracy: 0.5688\n",
            "Epoch 50/50\n",
            "10/10 [==============================] - 0s 6ms/step - loss: 0.1179 - accuracy: 0.9531 - val_loss: 1.8017 - val_accuracy: 0.5875\n"
          ],
          "name": "stdout"
        },
        {
          "output_type": "execute_result",
          "data": {
            "text/plain": [
              "<tensorflow.python.keras.callbacks.History at 0x7f40f030bc88>"
            ]
          },
          "metadata": {
            "tags": []
          },
          "execution_count": 89
        }
      ]
    }
  ]
}