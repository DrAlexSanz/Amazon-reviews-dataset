{
 "cells": [
  {
   "cell_type": "markdown",
   "metadata": {},
   "source": [
    "### This is a quick notebook to perform binary classification on the amazon reviews dataset"
   ]
  },
  {
   "cell_type": "markdown",
   "metadata": {},
   "source": [
    "### Idea of this notebook.\n",
    "\n",
    "1. Get the data.\n",
    "2. Combine it in one DF or vector or something.\n",
    "3. Label encoding.\n",
    "4. Tokenize.\n",
    "5. Train/test split.\n",
    "6. Model training and testing using a quick benchmark. LogReg and Random Forest as a test of what I can achieve with simple models."
   ]
  },
  {
   "cell_type": "code",
   "execution_count": 68,
   "metadata": {},
   "outputs": [],
   "source": [
    "from bs4 import BeautifulSoup\n",
    "from keras.preprocessing.text import Tokenizer\n",
    "from keras.preprocessing import sequence\n",
    "from sklearn.model_selection import train_test_split\n",
    "from sklearn.decomposition import PCA\n",
    "from sklearn.linear_model import LogisticRegression\n",
    "from sklearn.ensemble import RandomForestClassifier\n",
    "from sklearn.metrics import accuracy_score\n",
    "\n",
    "import pandas as pd\n",
    "import numpy as np\n",
    "import matplotlib.pyplot as plt"
   ]
  },
  {
   "cell_type": "markdown",
   "metadata": {},
   "source": [
    "### Read the data and store positive and negative reviews\n",
    "\n",
    "The data is in xml format. Read it with bs4.\n",
    "\n",
    "The idea is to find all the reviews text. findAll finds the text and the tags and produces a soup object result. I want a string and then I'll split it and clean the \"\\n\". This is the way to do things."
   ]
  },
  {
   "cell_type": "code",
   "execution_count": 2,
   "metadata": {},
   "outputs": [],
   "source": [
    "pos_reviews = BeautifulSoup(open(\"positive.review\").read())\n",
    "neg_reviews = BeautifulSoup(open(\"negative.review\").read())\n",
    "\n",
    "pos_list = []\n",
    "\n",
    "pos_revs = pos_reviews.find_all(\"review_text\")\n",
    "\n",
    "for rev in pos_revs:\n",
    "    pos_list.append(rev.text)\n",
    "    \n",
    "\n",
    "neg_list = []\n",
    "\n",
    "neg_revs = neg_reviews.find_all(\"review_text\")\n",
    "\n",
    "for rev in neg_revs:\n",
    "    neg_list.append(rev.text)\n"
   ]
  },
  {
   "cell_type": "markdown",
   "metadata": {},
   "source": [
    "## Remove the \\n characters.\n",
    "\n",
    "### I have a list of strings, for each string I replace the \\n with a blank space and then I strip the leading and trailing spaces. On pos_list I just replace the \\n by an inexisting character. Both works, the inexisting character is probably better and more elegant but since I had to do the NLS at Cat I can also do it here ;)"
   ]
  },
  {
   "cell_type": "code",
   "execution_count": 3,
   "metadata": {},
   "outputs": [],
   "source": [
    "clean_pos_list =[elem.replace(\"\\n\", \"\") for elem in pos_list]\n",
    "\n",
    "clean_neg_list =[elem.replace(\"\\n\", \" \").strip() for elem in neg_list]\n",
    "\n",
    "\n"
   ]
  },
  {
   "cell_type": "markdown",
   "metadata": {},
   "source": [
    "### Out of curiosity, check how long are the reviews. Vaya tochos sin resumen. Es de vergüenza su actitud."
   ]
  },
  {
   "cell_type": "code",
   "execution_count": 4,
   "metadata": {},
   "outputs": [
    {
     "name": "stdout",
     "output_type": "stream",
     "text": [
      "5840\n",
      "5189\n"
     ]
    }
   ],
   "source": [
    "max_len = [len(elem) for elem in clean_pos_list]\n",
    "print(max(max_len))\n",
    "\n",
    "max_len = [len(elem) for elem in clean_neg_list]\n",
    "print(max(max_len))"
   ]
  },
  {
   "cell_type": "markdown",
   "metadata": {},
   "source": [
    "## Now I will tag the pos and negs myself. I don't need label encoding.\n",
    "### Then union the two dataframes"
   ]
  },
  {
   "cell_type": "code",
   "execution_count": 5,
   "metadata": {},
   "outputs": [],
   "source": [
    "pos = pd.DataFrame(clean_pos_list, columns = [\"Reviews\"])\n",
    "pos[\"label\"] = 1\n",
    "\n",
    "neg = pd.DataFrame(clean_neg_list, columns = [\"Reviews\"])\n",
    "neg[\"label\"] = 0\n",
    "\n",
    "dataset = pd.concat([pos, neg], ignore_index = True)"
   ]
  },
  {
   "cell_type": "markdown",
   "metadata": {},
   "source": [
    "## It's probably not the best way to do this but I put the tags, concat both DFs and now I'll make two vectors and tokenize."
   ]
  },
  {
   "cell_type": "code",
   "execution_count": 6,
   "metadata": {},
   "outputs": [],
   "source": [
    "X = dataset[\"Reviews\"]\n",
    "y = dataset[\"label\"]\n",
    "\n",
    "y = y.values.tolist()"
   ]
  },
  {
   "cell_type": "code",
   "execution_count": 7,
   "metadata": {},
   "outputs": [],
   "source": [
    "x_train, x_test, y_train, y_test = train_test_split(X, y, test_size = 0.2, random_state = 13)"
   ]
  },
  {
   "cell_type": "code",
   "execution_count": 8,
   "metadata": {},
   "outputs": [
    {
     "name": "stdout",
     "output_type": "stream",
     "text": [
      "681     Great buy for a wonderful speaker system. Work...\n",
      "1601    I bought these cables, brought them home and i...\n",
      "819     I had a problem with my Sunrocket VOIP and I r...\n",
      "910     I am extremely pleased with the purchase. I am...\n",
      "330     I'm using this AP, along with a Netgear 802.11...\n",
      "                              ...                        \n",
      "1685    i was very disappointed with the ge superadio ...\n",
      "152     PROS:smallreliablevery good quality with pictu...\n",
      "351     I recently bought a new 6.0 megapixel digital ...\n",
      "266     Myself and my grandchildren love to hold these...\n",
      "1559    OK. I take my words back. I found a solution t...\n",
      "Name: Reviews, Length: 400, dtype: object\n"
     ]
    }
   ],
   "source": [
    "print(x_test)"
   ]
  },
  {
   "cell_type": "code",
   "execution_count": 60,
   "metadata": {},
   "outputs": [],
   "source": [
    "tok = Tokenizer(num_words = 10000, oov_token = 1) # For the unknown/ out of vocab. words.\n",
    "\n",
    "tok.fit_on_texts(x_train)\n",
    "\n",
    "sequences = tok.texts_to_sequences(x_train)\n",
    "\n",
    "train_matrix = sequence.pad_sequences(sequences, 5840, padding = \"post\") # 5840 was the max length.\n",
    "\n",
    "sequences_test = tok.texts_to_sequences(x_test)\n",
    "\n",
    "test_matrix = sequence.pad_sequences(sequences_test, 5840, padding = \"post\")\n"
   ]
  },
  {
   "cell_type": "code",
   "execution_count": 62,
   "metadata": {},
   "outputs": [
    {
     "data": {
      "text/plain": [
       "(400, 5840)"
      ]
     },
     "execution_count": 62,
     "metadata": {},
     "output_type": "execute_result"
    }
   ],
   "source": [
    "test_matrix.shape"
   ]
  },
  {
   "cell_type": "markdown",
   "metadata": {},
   "source": [
    "## This is a big matrix. I can do PCA and make my own \"embeddings\". They won't be pretrained and fancy but they should work. An embedding is just a way to reduce dimensionality, like PCA, so I guess I will be able to compare with the GloVe vectors later even if it's not an apples to apples comparison. My PCA vectors are the same but in a different base.\n",
    "\n",
    "Let's see how many dimensions I keep."
   ]
  },
  {
   "cell_type": "code",
   "execution_count": 40,
   "metadata": {},
   "outputs": [],
   "source": [
    "dim_list = np.linspace(0.01, 0.99, 20) #Calculate how many components I need for a given variance explained.\n",
    "len(dim_list)\n",
    "\n",
    "components = []\n",
    "\n",
    "# Now what I do is to create PCAs to explain 5%, 10%, etc. of the variance and I tell sklearn to tell me how many comps I need\n",
    "# I will plot this in a nice curve but it takes a while to run.\n",
    "\n",
    "for i in dim_list:\n",
    "    pca = PCA(n_components = i).fit(train_matrix)\n",
    "    exp = pca.n_components_\n",
    "    components.append(exp)\n",
    "\n",
    "    "
   ]
  },
  {
   "cell_type": "code",
   "execution_count": 46,
   "metadata": {},
   "outputs": [
    {
     "name": "stdout",
     "output_type": "stream",
     "text": [
      "[  1   2   4   9  14  19  25  31  38  46  54  63  72  83  96 110 128 150\n",
      " 183 254]\n"
     ]
    },
    {
     "data": {
      "image/png": "[encoded data removed]",
      "text/plain": [
       "<Figure size 1080x576 with 1 Axes>"
      ]
     },
     "metadata": {
      "needs_background": "light"
     },
     "output_type": "display_data"
    }
   ],
   "source": [
    "plt.figure(figsize = (15, 8))\n",
    "plt.plot(components, dim_list)\n",
    "plt.xlabel(\"Number of principal components\")\n",
    "plt.ylabel(\"Percent of variance explained\")\n",
    "plt.title(\"PCA vs. variance explained\");"
   ]
  },
  {
   "cell_type": "markdown",
   "metadata": {},
   "source": [
    "## I can see that with 200 components I´ll be more than happy, the exact variance explained by 200 components is more than 95%"
   ]
  },
  {
   "cell_type": "code",
   "execution_count": 63,
   "metadata": {},
   "outputs": [
    {
     "name": "stdout",
     "output_type": "stream",
     "text": [
      "0.9573505245618369\n"
     ]
    }
   ],
   "source": [
    "train_matrix = PCA(n_components = 200).fit_transform(train_matrix)\n",
    "test_matrix = pca.transform(test_matrix)\n",
    "var = np.sum(pca.explained_variance_ratio_)\n",
    "print(var)"
   ]
  },
  {
   "cell_type": "markdown",
   "metadata": {},
   "source": [
    "## Now I fit a quick logistic regressor as a benchmark. Not a great performance."
   ]
  },
  {
   "cell_type": "code",
   "execution_count": 84,
   "metadata": {},
   "outputs": [
    {
     "name": "stdout",
     "output_type": "stream",
     "text": [
      "0.5175\n"
     ]
    },
    {
     "name": "stderr",
     "output_type": "stream",
     "text": [
      "C:\\Utilidades\\Anaconda\\lib\\site-packages\\sklearn\\linear_model\\logistic.py:432: FutureWarning: Default solver will be changed to 'lbfgs' in 0.22. Specify a solver to silence this warning.\n",
      "  FutureWarning)\n"
     ]
    }
   ],
   "source": [
    "Lreg = LogisticRegression(max_iter = 1e3, penalty = \"l1\", C = 10).fit(train_matrix, y_train)\n",
    "\n",
    "pred = Lreg.predict(test_matrix)\n",
    "\n",
    "acc = Lreg.score(test_matrix, y_test)\n",
    "\n",
    "print(acc)\n"
   ]
  },
  {
   "cell_type": "markdown",
   "metadata": {},
   "source": [
    "## What about a random forest? It´s a bit better!!"
   ]
  },
  {
   "cell_type": "code",
   "execution_count": 90,
   "metadata": {},
   "outputs": [
    {
     "name": "stdout",
     "output_type": "stream",
     "text": [
      "0.5575\n"
     ]
    }
   ],
   "source": [
    "RF = RandomForestClassifier(n_jobs = -1, n_estimators = 500, criterion = \"gini\").fit(train_matrix, y_train)\n",
    "\n",
    "pred = RF.predict(test_matrix)\n",
    "\n",
    "acc = RF.score(test_matrix, y_test)\n",
    "\n",
    "print(acc)"
   ]
  }
 ],
 "metadata": {
  "kernelspec": {
   "display_name": "Python 3",
   "language": "python",
   "name": "python3"
  },
  "language_info": {
   "codemirror_mode": {
    "name": "ipython",
    "version": 3
   },
   "file_extension": ".py",
   "mimetype": "text/x-python",
   "name": "python",
   "nbconvert_exporter": "python",
   "pygments_lexer": "ipython3",
   "version": "3.7.4"
  }
 },
 "nbformat": 4,
 "nbformat_minor": 2
}
